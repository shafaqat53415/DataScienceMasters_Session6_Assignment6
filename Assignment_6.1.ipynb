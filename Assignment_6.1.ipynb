{
 "cells": [
  {
   "cell_type": "code",
   "execution_count": 1,
   "metadata": {},
   "outputs": [],
   "source": [
    "#Write a function so that the columns of the output matrix are powers of the input\n",
    "#vector.\n",
    "#The order of the powers is determined by the increasing boolean argument. Specifically,\n",
    "#when increasing is False, the i-th output column is the input vector raised element-wise\n",
    "#to the power of N - i - 1.\n",
    "\n",
    "#HINT: Such a matrix with a geometric progression in each row is named for Alexandre-\n",
    "#Theophile Vandermonde."
   ]
  },
  {
   "cell_type": "code",
   "execution_count": 3,
   "metadata": {},
   "outputs": [
    {
     "data": {
      "text/plain": [
       "array([[ 1,  1,  1,  1],\n",
       "       [ 8,  4,  2,  1],\n",
       "       [64, 16,  4,  1],\n",
       "       [27,  9,  3,  1]])"
      ]
     },
     "execution_count": 3,
     "metadata": {},
     "output_type": "execute_result"
    }
   ],
   "source": [
    "import numpy as np\n",
    "x = np.array([1,2,4,3])\n",
    "N = 4\n",
    "np.vander(x,N)"
   ]
  },
  {
   "cell_type": "code",
   "execution_count": 4,
   "metadata": {},
   "outputs": [],
   "source": [
    "def mAtrix(x,n,boolean):\n",
    "    l = []\n",
    "    if boolean == True:\n",
    "        for item in x:\n",
    "            v = []\n",
    "            for j in range(n):\n",
    "                v.append(item ** j)\n",
    "            l.append(v)\n",
    "        return np.array(l)\n",
    "    else:\n",
    "        for item in x:\n",
    "            v = []\n",
    "            for j in range(n):\n",
    "                v.append(item ** j)\n",
    "            l.append(v[::-1])\n",
    "        return np.array(l)\n"
   ]
  },
  {
   "cell_type": "code",
   "execution_count": 5,
   "metadata": {},
   "outputs": [
    {
     "data": {
      "text/plain": [
       "array([[ 1,  1,  1,  1],\n",
       "       [ 8,  4,  2,  1],\n",
       "       [64, 16,  4,  1],\n",
       "       [27,  9,  3,  1]])"
      ]
     },
     "execution_count": 5,
     "metadata": {},
     "output_type": "execute_result"
    }
   ],
   "source": [
    "mAtrix(x,4,False)"
   ]
  }
 ],
 "metadata": {
  "kernelspec": {
   "display_name": "Python 3",
   "language": "python",
   "name": "python3"
  },
  "language_info": {
   "codemirror_mode": {
    "name": "ipython",
    "version": 3
   },
   "file_extension": ".py",
   "mimetype": "text/x-python",
   "name": "python",
   "nbconvert_exporter": "python",
   "pygments_lexer": "ipython3",
   "version": "3.6.5"
  }
 },
 "nbformat": 4,
 "nbformat_minor": 2
}
